{
 "cells": [
  {
   "metadata": {
    "ExecuteTime": {
     "end_time": "2025-08-31T20:36:04.974531Z",
     "start_time": "2025-08-31T20:36:04.969172Z"
    }
   },
   "cell_type": "code",
   "source": [
    "import numpy as np\n",
    "import pandas as pd\n",
    "import seaborn as sns\n",
    "\n",
    "# to create synthetic data\n",
    "from sklearn.datasets import make_blobs\n",
    "\n",
    "# Visualization package import\n",
    "\n",
    "# imports for modeling and evaluation\n",
    "from sklearn.cluster import KMeans\n",
    "from sklearn.metrics import silhouette_score\n",
    "from sklearn.preprocessing import StandardScaler\n"
   ],
   "id": "4241ce19fa44f507",
   "outputs": [],
   "execution_count": 27
  },
  {
   "metadata": {
    "ExecuteTime": {
     "end_time": "2025-08-31T20:36:05.007059Z",
     "start_time": "2025-08-31T20:36:05.004151Z"
    }
   },
   "cell_type": "code",
   "source": [
    "# creating random number generator\n",
    "rng = np.random.default_rng(seed=44)"
   ],
   "id": "c1315e2f7f1a51c0",
   "outputs": [],
   "execution_count": 28
  },
  {
   "metadata": {
    "ExecuteTime": {
     "end_time": "2025-08-31T20:36:05.054464Z",
     "start_time": "2025-08-31T20:36:05.048791Z"
    }
   },
   "cell_type": "code",
   "source": [
    "centers = rng.integers(low=3, high=7) # 4,5 or 6\n",
    "# creating synthetic data with unknown number of clusters\n",
    "X, y = make_blobs(n_samples=1000, n_features=6, centers=centers, random_state=42)"
   ],
   "id": "859c4f3af9da6206",
   "outputs": [],
   "execution_count": 29
  },
  {
   "metadata": {
    "ExecuteTime": {
     "end_time": "2025-08-31T20:36:05.080208Z",
     "start_time": "2025-08-31T20:36:05.071781Z"
    }
   },
   "cell_type": "code",
   "source": [
    "X = pd.DataFrame(X)\n",
    "X.head()"
   ],
   "id": "564efde7a498420c",
   "outputs": [
    {
     "data": {
      "text/plain": [
       "          0         1         2         3         4          5\n",
       "0 -1.534288  5.467808 -6.945988  1.403934  1.553836  -7.618236\n",
       "1 -6.681020  6.717808  2.764396  4.460744 -8.286569  10.959708\n",
       "2 -8.678310  7.825306  3.139699  5.609951 -9.948079   8.072149\n",
       "3 -6.667385  7.147637  2.145505  4.712937 -9.544708  11.093248\n",
       "4 -2.753835 -4.209968  0.620345 -7.439505 -4.405723  -2.046149"
      ],
      "text/html": [
       "<div>\n",
       "<style scoped>\n",
       "    .dataframe tbody tr th:only-of-type {\n",
       "        vertical-align: middle;\n",
       "    }\n",
       "\n",
       "    .dataframe tbody tr th {\n",
       "        vertical-align: top;\n",
       "    }\n",
       "\n",
       "    .dataframe thead th {\n",
       "        text-align: right;\n",
       "    }\n",
       "</style>\n",
       "<table border=\"1\" class=\"dataframe\">\n",
       "  <thead>\n",
       "    <tr style=\"text-align: right;\">\n",
       "      <th></th>\n",
       "      <th>0</th>\n",
       "      <th>1</th>\n",
       "      <th>2</th>\n",
       "      <th>3</th>\n",
       "      <th>4</th>\n",
       "      <th>5</th>\n",
       "    </tr>\n",
       "  </thead>\n",
       "  <tbody>\n",
       "    <tr>\n",
       "      <th>0</th>\n",
       "      <td>-1.534288</td>\n",
       "      <td>5.467808</td>\n",
       "      <td>-6.945988</td>\n",
       "      <td>1.403934</td>\n",
       "      <td>1.553836</td>\n",
       "      <td>-7.618236</td>\n",
       "    </tr>\n",
       "    <tr>\n",
       "      <th>1</th>\n",
       "      <td>-6.681020</td>\n",
       "      <td>6.717808</td>\n",
       "      <td>2.764396</td>\n",
       "      <td>4.460744</td>\n",
       "      <td>-8.286569</td>\n",
       "      <td>10.959708</td>\n",
       "    </tr>\n",
       "    <tr>\n",
       "      <th>2</th>\n",
       "      <td>-8.678310</td>\n",
       "      <td>7.825306</td>\n",
       "      <td>3.139699</td>\n",
       "      <td>5.609951</td>\n",
       "      <td>-9.948079</td>\n",
       "      <td>8.072149</td>\n",
       "    </tr>\n",
       "    <tr>\n",
       "      <th>3</th>\n",
       "      <td>-6.667385</td>\n",
       "      <td>7.147637</td>\n",
       "      <td>2.145505</td>\n",
       "      <td>4.712937</td>\n",
       "      <td>-9.544708</td>\n",
       "      <td>11.093248</td>\n",
       "    </tr>\n",
       "    <tr>\n",
       "      <th>4</th>\n",
       "      <td>-2.753835</td>\n",
       "      <td>-4.209968</td>\n",
       "      <td>0.620345</td>\n",
       "      <td>-7.439505</td>\n",
       "      <td>-4.405723</td>\n",
       "      <td>-2.046149</td>\n",
       "    </tr>\n",
       "  </tbody>\n",
       "</table>\n",
       "</div>"
      ]
     },
     "execution_count": 30,
     "metadata": {},
     "output_type": "execute_result"
    }
   ],
   "execution_count": 30
  }
 ],
 "metadata": {
  "kernelspec": {
   "display_name": "Python 3",
   "language": "python",
   "name": "python3"
  },
  "language_info": {
   "codemirror_mode": {
    "name": "ipython",
    "version": 2
   },
   "file_extension": ".py",
   "mimetype": "text/x-python",
   "name": "python",
   "nbconvert_exporter": "python",
   "pygments_lexer": "ipython2",
   "version": "2.7.6"
  }
 },
 "nbformat": 4,
 "nbformat_minor": 5
}
